{
 "cells": [
  {
   "cell_type": "markdown",
   "id": "7822df3f",
   "metadata": {},
   "source": [
    "### Use pyhomogenize without any netCDF files; `basics`"
   ]
  },
  {
   "cell_type": "markdown",
   "id": "e6378837",
   "metadata": {},
   "source": [
    "Firstly, we want to use pyhomogenize's ``basics`` class. We can create our own time axis and do not need any netCDF files to be read."
   ]
  },
  {
   "cell_type": "code",
   "execution_count": null,
   "id": "1fb51fd5",
   "metadata": {},
   "outputs": [],
   "source": [
    "import pyhomogenize as pyh\n",
    "\n",
    "basics = pyh.basics()"
   ]
  },
  {
   "cell_type": "markdown",
   "id": "910b96e6",
   "metadata": {},
   "source": [
    "Let's see the default attributes containing a time format for converting strings into ``cftime.datetime`` object, a calendar used for this convertion and a frequncy string for creating a ``CFTimeIndex``. "
   ]
  },
  {
   "cell_type": "code",
   "execution_count": null,
   "id": "e08aeca2",
   "metadata": {},
   "outputs": [],
   "source": [
    "basics.__dict__"
   ]
  },
  {
   "cell_type": "markdown",
   "id": "d0e18eeb",
   "metadata": {},
   "source": [
    "We can change the default attributes by calling `basics` again."
   ]
  },
  {
   "cell_type": "code",
   "execution_count": null,
   "id": "ff2fa7ac",
   "metadata": {},
   "outputs": [],
   "source": [
    "basics = pyh.basics(fmt=\"%Y%m%d\", calendar=\"noleap\")\n",
    "basics.__dict__"
   ]
  },
  {
   "cell_type": "markdown",
   "id": "6dcdf257",
   "metadata": {},
   "source": [
    "Now, we convert a user-given string into a ``cftime.datetime`` object and vice versa. Here again we can specify the time format and the calendar. Note that the default values will not be overwritten after the conversion."
   ]
  },
  {
   "cell_type": "code",
   "execution_count": null,
   "id": "657a3408",
   "metadata": {},
   "outputs": [],
   "source": [
    "date_start = basics.str_to_date(\"20210101\")\n",
    "date_start"
   ]
  },
  {
   "cell_type": "code",
   "execution_count": null,
   "id": "15566847",
   "metadata": {},
   "outputs": [],
   "source": [
    "date_start = basics.str_to_date(\"2021-01-01\", fmt=\"%Y-%m-%d\", calendar=\"standard\")\n",
    "date_start"
   ]
  },
  {
   "cell_type": "code",
   "execution_count": null,
   "id": "861f223e",
   "metadata": {},
   "outputs": [],
   "source": [
    "basics.__dict__"
   ]
  },
  {
   "cell_type": "markdown",
   "id": "7139d2fc",
   "metadata": {},
   "source": [
    "By default, ``cftime.datetime`` instance atributes that are not represented by `fmt` will be set to `0` as you can see in the above examples. It is possible to set the unmentioned  instance attributes to the last possible value too. Instance attributes which frequency is higher than a second are still be ignored."
   ]
  },
  {
   "cell_type": "code",
   "execution_count": null,
   "id": "89d89b7c",
   "metadata": {},
   "outputs": [],
   "source": [
    "date_end = basics.str_to_date(\"20211231\", mode=\"end\", calendar=\"standard\")\n",
    "date_end"
   ]
  },
  {
   "cell_type": "markdown",
   "id": "b95eafb6",
   "metadata": {},
   "source": [
    "Now, let's do it vice versa. Here again, we can specify the string format"
   ]
  },
  {
   "cell_type": "code",
   "execution_count": null,
   "id": "64032f2b",
   "metadata": {},
   "outputs": [],
   "source": [
    "str_start = basics.date_to_str(date_start, fmt=\"%Y-%m-%d\")\n",
    "str_end = basics.date_to_str(date_end, fmt=\"%Y-%m-%d\")\n",
    "str_start, str_end"
   ]
  },
  {
   "cell_type": "markdown",
   "id": "40ce0bab",
   "metadata": {},
   "source": [
    "Let's build a ``CFTimeIndex`` with a monthly frequency. As left and right bounds we can use both ``str``'s and ``cftime.datetime`` objects."
   ]
  },
  {
   "cell_type": "code",
   "execution_count": null,
   "id": "0cd76570",
   "metadata": {},
   "outputs": [],
   "source": [
    "date_range = basics.date_range(start=str_start, end=str_end, frequency=\"mon\")\n",
    "date_range"
   ]
  },
  {
   "cell_type": "code",
   "execution_count": null,
   "id": "d4a07d57",
   "metadata": {},
   "outputs": [],
   "source": [
    "date_range = basics.date_range(start=date_start, end=date_end, frequency=\"mon\")\n",
    "date_range"
   ]
  },
  {
   "cell_type": "markdown",
   "id": "ef15493c",
   "metadata": {},
   "source": [
    "Note, if `frequency` equals 'mon' the time steps are set to the middle of the month. To get the beginning or the end of the months use 'MS' os 'M'."
   ]
  },
  {
   "cell_type": "code",
   "execution_count": null,
   "id": "99b81e1d",
   "metadata": {},
   "outputs": [],
   "source": [
    "date_range_start = basics.date_range(start=date_start, end=date_end, frequency=\"MS\")\n",
    "date_range_start"
   ]
  },
  {
   "cell_type": "code",
   "execution_count": null,
   "id": "cd55f066",
   "metadata": {},
   "outputs": [],
   "source": [
    "date_range_end = basics.date_range(start=date_start, end=date_end, frequency=\"M\")\n",
    "date_range_end"
   ]
  },
  {
   "cell_type": "markdown",
   "id": "c6cf0288",
   "metadata": {},
   "source": [
    "Now, we can check whether the `date_range`'s values contain the first and the last day of the month."
   ]
  },
  {
   "cell_type": "code",
   "execution_count": null,
   "id": "8fd71426",
   "metadata": {},
   "outputs": [],
   "source": [
    "basics.is_month_start(date_range)"
   ]
  },
  {
   "cell_type": "code",
   "execution_count": null,
   "id": "339322e8",
   "metadata": {},
   "outputs": [],
   "source": [
    "basics.is_month_end(date_range)"
   ]
  },
  {
   "cell_type": "code",
   "execution_count": null,
   "id": "01f88874",
   "metadata": {},
   "outputs": [],
   "source": [
    "basics.is_month_start(date_range_start)"
   ]
  },
  {
   "cell_type": "markdown",
   "id": "b7277a5b",
   "metadata": {},
   "source": [
    "The last ``basics`` method is to crop or limit a date_range to user-specified start and end month values. The new date_range should start with and with the a season."
   ]
  },
  {
   "cell_type": "code",
   "execution_count": null,
   "id": "216c3980",
   "metadata": {},
   "outputs": [],
   "source": [
    "date_range_limit = basics.date_range_to_frequency_limits(\n",
    "    date_range=date_range, smonth=[3, 6, 9, 12], emonth=[2, 5, 8, 11], get_range=True\n",
    ")\n",
    "date_range_limit"
   ]
  },
  {
   "cell_type": "markdown",
   "id": "f00ab364",
   "metadata": {},
   "source": [
    "Instead of specifying a date_range you can specify a start and end date and a frequency"
   ]
  },
  {
   "cell_type": "code",
   "execution_count": null,
   "id": "84410cc6",
   "metadata": {},
   "outputs": [],
   "source": [
    "date_range_limit = basics.date_range_to_frequency_limits(\n",
    "    start=date_start,\n",
    "    end=date_end,\n",
    "    frequency=\"mon\",\n",
    "    smonth=[3, 6, 9, 12],\n",
    "    emonth=[2, 5, 8, 11],\n",
    "    get_range=True,\n",
    ")\n",
    "date_range_limit"
   ]
  },
  {
   "cell_type": "markdown",
   "id": "5c8331cd",
   "metadata": {},
   "source": [
    "To get only the left and right borders:"
   ]
  },
  {
   "cell_type": "code",
   "execution_count": null,
   "id": "3eeef257",
   "metadata": {},
   "outputs": [],
   "source": [
    "left, right = basics.date_range_to_frequency_limits(\n",
    "    start=date_start,\n",
    "    end=date_end,\n",
    "    frequency=\"mon\",\n",
    "    smonth=[3, 6, 9, 12],\n",
    "    emonth=[2, 5, 8, 11],\n",
    ")\n",
    "left, right"
   ]
  }
 ],
 "metadata": {
  "kernelspec": {
   "display_name": "Python 3 (ipykernel)",
   "language": "python",
   "name": "python3"
  },
  "language_info": {
   "codemirror_mode": {
    "name": "ipython",
    "version": 3
   },
   "file_extension": ".py",
   "mimetype": "text/x-python",
   "name": "python",
   "nbconvert_exporter": "python",
   "pygments_lexer": "ipython3",
   "version": "3.8.12"
  }
 },
 "nbformat": 4,
 "nbformat_minor": 5
}
