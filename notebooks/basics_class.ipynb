{
 "cells": [
  {
   "cell_type": "markdown",
   "id": "7822df3f",
   "metadata": {},
   "source": [
    "### Use pyhomogenize without any netCDF files; `basics`"
   ]
  },
  {
   "cell_type": "markdown",
   "id": "e6378837",
   "metadata": {},
   "source": [
    "Firstly, we want to use pyhomogenize's ``basics`` class. We can create our own time axis and do not need any netCDF files to be read."
   ]
  },
  {
   "cell_type": "code",
   "execution_count": 1,
   "id": "1fb51fd5",
   "metadata": {},
   "outputs": [],
   "source": [
    "import pyhomogenize as pyh\n",
    "basics = pyh.basics()"
   ]
  },
  {
   "cell_type": "markdown",
   "id": "910b96e6",
   "metadata": {},
   "source": [
    "Let's see the default attributes containing a time format for converting strings into ``cftime.datetime`` object, a calendar used for this convertion and a frequncy string for creating a ``CFTimeIndex``. "
   ]
  },
  {
   "cell_type": "code",
   "execution_count": 2,
   "id": "e08aeca2",
   "metadata": {},
   "outputs": [
    {
     "data": {
      "text/plain": [
       "{'fmt': '%Y-%m-%dT%H:%M:%S', 'calendar': 'standard', 'frequency': 'D'}"
      ]
     },
     "execution_count": 2,
     "metadata": {},
     "output_type": "execute_result"
    }
   ],
   "source": [
    "basics.__dict__"
   ]
  },
  {
   "cell_type": "markdown",
   "id": "d0e18eeb",
   "metadata": {},
   "source": [
    "We can change the default attributes by calling `basics` again."
   ]
  },
  {
   "cell_type": "code",
   "execution_count": 3,
   "id": "ff2fa7ac",
   "metadata": {},
   "outputs": [
    {
     "data": {
      "text/plain": [
       "{'fmt': '%Y%m%d', 'calendar': 'noleap', 'frequency': 'D'}"
      ]
     },
     "execution_count": 3,
     "metadata": {},
     "output_type": "execute_result"
    }
   ],
   "source": [
    "basics = pyh.basics(fmt='%Y%m%d', \n",
    "                    calendar='noleap')\n",
    "basics.__dict__"
   ]
  },
  {
   "cell_type": "markdown",
   "id": "6dcdf257",
   "metadata": {},
   "source": [
    "Now, we convert a user-given string into a ``cftime.datetime`` object and vice versa. Here again we can specify the time format and the calendar. Note that the default values will not be overwritten after the conversion."
   ]
  },
  {
   "cell_type": "code",
   "execution_count": 4,
   "id": "657a3408",
   "metadata": {},
   "outputs": [
    {
     "data": {
      "text/plain": [
       "cftime.datetime(2021, 1, 1, 0, 0, 0, 0, calendar='noleap', has_year_zero=True)"
      ]
     },
     "execution_count": 4,
     "metadata": {},
     "output_type": "execute_result"
    }
   ],
   "source": [
    "date_start = basics.str_to_date('20210101')\n",
    "date_start"
   ]
  },
  {
   "cell_type": "code",
   "execution_count": 5,
   "id": "15566847",
   "metadata": {},
   "outputs": [
    {
     "data": {
      "text/plain": [
       "cftime.datetime(2021, 1, 1, 0, 0, 0, 0, calendar='gregorian', has_year_zero=False)"
      ]
     },
     "execution_count": 5,
     "metadata": {},
     "output_type": "execute_result"
    }
   ],
   "source": [
    "date_start = basics.str_to_date('2021-01-01', \n",
    "                          fmt='%Y-%m-%d', \n",
    "                          calendar = 'standard')\n",
    "date_start"
   ]
  },
  {
   "cell_type": "code",
   "execution_count": 6,
   "id": "861f223e",
   "metadata": {},
   "outputs": [
    {
     "data": {
      "text/plain": [
       "{'fmt': '%Y%m%d', 'calendar': 'noleap', 'frequency': 'D'}"
      ]
     },
     "execution_count": 6,
     "metadata": {},
     "output_type": "execute_result"
    }
   ],
   "source": [
    "basics.__dict__"
   ]
  },
  {
   "cell_type": "markdown",
   "id": "7139d2fc",
   "metadata": {},
   "source": [
    "By default, ``cftime.datetime`` instance atributes that are not represented by `fmt` will be set to `0` as you can see in the above examples. It is possible to set the unmentioned  instance attributes to the last possible value too. Instance attributes which frequency is higher than a second are still be ignored."
   ]
  },
  {
   "cell_type": "code",
   "execution_count": 7,
   "id": "89d89b7c",
   "metadata": {},
   "outputs": [
    {
     "data": {
      "text/plain": [
       "cftime.DatetimeGregorian(2021, 12, 31, 23, 59, 59, 0, has_year_zero=False)"
      ]
     },
     "execution_count": 7,
     "metadata": {},
     "output_type": "execute_result"
    }
   ],
   "source": [
    "date_end = basics.str_to_date('20211231', mode='end', calendar='standard') \n",
    "date_end"
   ]
  },
  {
   "cell_type": "markdown",
   "id": "b95eafb6",
   "metadata": {},
   "source": [
    "Now, let's do it vice versa. Here again, we can specify the string format"
   ]
  },
  {
   "cell_type": "code",
   "execution_count": 8,
   "id": "64032f2b",
   "metadata": {},
   "outputs": [
    {
     "data": {
      "text/plain": [
       "('2021-01-01', '2021-12-31')"
      ]
     },
     "execution_count": 8,
     "metadata": {},
     "output_type": "execute_result"
    }
   ],
   "source": [
    "str_start = basics.date_to_str(date_start, fmt='%Y-%m-%d')\n",
    "str_end   = basics.date_to_str(date_end, fmt='%Y-%m-%d')\n",
    "str_start, str_end"
   ]
  },
  {
   "cell_type": "markdown",
   "id": "40ce0bab",
   "metadata": {},
   "source": [
    "Let's build a ``CFTimeIndex`` with a monthly frequency. As left and right bounds we can use both ``str``'s and ``cftime.datetime`` objects."
   ]
  },
  {
   "cell_type": "code",
   "execution_count": 9,
   "id": "0cd76570",
   "metadata": {},
   "outputs": [
    {
     "data": {
      "text/plain": [
       "CFTimeIndex([2021-01-16 12:00:00, 2021-02-15 00:00:00, 2021-03-16 12:00:00,\n",
       "             2021-04-16 00:00:00, 2021-05-16 12:00:00, 2021-06-16 00:00:00,\n",
       "             2021-07-16 12:00:00, 2021-08-16 12:00:00, 2021-09-16 00:00:00,\n",
       "             2021-10-16 12:00:00, 2021-11-16 00:00:00, 2021-12-16 12:00:00],\n",
       "            dtype='object', length=12, calendar='noleap', freq='None')"
      ]
     },
     "execution_count": 9,
     "metadata": {},
     "output_type": "execute_result"
    }
   ],
   "source": [
    "date_range = basics.date_range(start=str_start, \n",
    "                               end=str_end, \n",
    "                               frequency='mon')\n",
    "date_range"
   ]
  },
  {
   "cell_type": "code",
   "execution_count": 10,
   "id": "d4a07d57",
   "metadata": {},
   "outputs": [
    {
     "data": {
      "text/plain": [
       "CFTimeIndex([2021-01-16 12:00:00, 2021-02-15 00:00:00, 2021-03-16 12:00:00,\n",
       "             2021-04-16 00:00:00, 2021-05-16 12:00:00, 2021-06-16 00:00:00,\n",
       "             2021-07-16 12:00:00, 2021-08-16 12:00:00, 2021-09-16 00:00:00,\n",
       "             2021-10-16 12:00:00, 2021-11-16 00:00:00, 2021-12-16 12:00:00],\n",
       "            dtype='object', length=12, calendar='gregorian', freq='None')"
      ]
     },
     "execution_count": 10,
     "metadata": {},
     "output_type": "execute_result"
    }
   ],
   "source": [
    "date_range = basics.date_range(start=date_start, \n",
    "                               end=date_end, \n",
    "                               frequency='mon')\n",
    "date_range"
   ]
  },
  {
   "cell_type": "markdown",
   "id": "ef15493c",
   "metadata": {},
   "source": [
    "Note, if `frequency` equals 'mon' the time steps are set to the middle of the month. To get the beginning or the end of the months use 'MS' os 'M'."
   ]
  },
  {
   "cell_type": "code",
   "execution_count": 11,
   "id": "99b81e1d",
   "metadata": {},
   "outputs": [
    {
     "data": {
      "text/plain": [
       "CFTimeIndex([2021-01-01 00:00:00, 2021-02-01 00:00:00, 2021-03-01 00:00:00,\n",
       "             2021-04-01 00:00:00, 2021-05-01 00:00:00, 2021-06-01 00:00:00,\n",
       "             2021-07-01 00:00:00, 2021-08-01 00:00:00, 2021-09-01 00:00:00,\n",
       "             2021-10-01 00:00:00, 2021-11-01 00:00:00, 2021-12-01 00:00:00],\n",
       "            dtype='object', length=12, calendar='gregorian', freq='MS')"
      ]
     },
     "execution_count": 11,
     "metadata": {},
     "output_type": "execute_result"
    }
   ],
   "source": [
    "date_range_start = basics.date_range(start=date_start, \n",
    "                                     end=date_end, \n",
    "                                     frequency='MS')\n",
    "date_range_start"
   ]
  },
  {
   "cell_type": "code",
   "execution_count": 12,
   "id": "cd55f066",
   "metadata": {},
   "outputs": [
    {
     "data": {
      "text/plain": [
       "CFTimeIndex([2021-01-31 00:00:00, 2021-02-28 00:00:00, 2021-03-31 00:00:00,\n",
       "             2021-04-30 00:00:00, 2021-05-31 00:00:00, 2021-06-30 00:00:00,\n",
       "             2021-07-31 00:00:00, 2021-08-31 00:00:00, 2021-09-30 00:00:00,\n",
       "             2021-10-31 00:00:00, 2021-11-30 00:00:00, 2021-12-31 00:00:00],\n",
       "            dtype='object', length=12, calendar='gregorian', freq='M')"
      ]
     },
     "execution_count": 12,
     "metadata": {},
     "output_type": "execute_result"
    }
   ],
   "source": [
    "date_range_end = basics.date_range(start=date_start, \n",
    "                                   end=date_end, \n",
    "                                   frequency='M')\n",
    "date_range_end"
   ]
  },
  {
   "cell_type": "markdown",
   "id": "c6cf0288",
   "metadata": {},
   "source": [
    "Now, we can check whether the `date_range`'s values contain the first and the last day of the month."
   ]
  },
  {
   "cell_type": "code",
   "execution_count": 13,
   "id": "8fd71426",
   "metadata": {},
   "outputs": [
    {
     "data": {
      "text/plain": [
       "[False,\n",
       " False,\n",
       " False,\n",
       " False,\n",
       " False,\n",
       " False,\n",
       " False,\n",
       " False,\n",
       " False,\n",
       " False,\n",
       " False,\n",
       " False]"
      ]
     },
     "execution_count": 13,
     "metadata": {},
     "output_type": "execute_result"
    }
   ],
   "source": [
    "basics.is_month_start(date_range)"
   ]
  },
  {
   "cell_type": "code",
   "execution_count": 14,
   "id": "339322e8",
   "metadata": {},
   "outputs": [
    {
     "data": {
      "text/plain": [
       "[False,\n",
       " False,\n",
       " False,\n",
       " False,\n",
       " False,\n",
       " False,\n",
       " False,\n",
       " False,\n",
       " False,\n",
       " False,\n",
       " False,\n",
       " False]"
      ]
     },
     "execution_count": 14,
     "metadata": {},
     "output_type": "execute_result"
    }
   ],
   "source": [
    "basics.is_month_end(date_range)"
   ]
  },
  {
   "cell_type": "code",
   "execution_count": 15,
   "id": "01f88874",
   "metadata": {},
   "outputs": [
    {
     "data": {
      "text/plain": [
       "[True, True, True, True, True, True, True, True, True, True, True, True]"
      ]
     },
     "execution_count": 15,
     "metadata": {},
     "output_type": "execute_result"
    }
   ],
   "source": [
    "basics.is_month_start(date_range_start)"
   ]
  },
  {
   "cell_type": "markdown",
   "id": "b7277a5b",
   "metadata": {},
   "source": [
    "The last ``basics`` method is to crop or limit a date_range to user-specified start and end month values. The new date_range should start with and with the a season."
   ]
  },
  {
   "cell_type": "code",
   "execution_count": 16,
   "id": "216c3980",
   "metadata": {},
   "outputs": [
    {
     "data": {
      "text/plain": [
       "CFTimeIndex([2021-03-16 12:00:00, 2021-04-16 00:00:00, 2021-05-16 12:00:00,\n",
       "             2021-06-16 00:00:00, 2021-07-16 12:00:00, 2021-08-16 12:00:00,\n",
       "             2021-09-16 00:00:00, 2021-10-16 12:00:00, 2021-11-16 00:00:00],\n",
       "            dtype='object', length=9, calendar='gregorian', freq='None')"
      ]
     },
     "execution_count": 16,
     "metadata": {},
     "output_type": "execute_result"
    }
   ],
   "source": [
    "date_range_limit = basics.date_range_to_frequency_limits(date_range=date_range, \n",
    "                                                         smonth=[3,6,9,12],\n",
    "                                                         emonth=[2,5,8,11], \n",
    "                                                         get_range=True)\n",
    "date_range_limit"
   ]
  },
  {
   "cell_type": "markdown",
   "id": "f00ab364",
   "metadata": {},
   "source": [
    "Instead of specifying a date_range you can specify a start and end date and a frequency"
   ]
  },
  {
   "cell_type": "code",
   "execution_count": 17,
   "id": "84410cc6",
   "metadata": {},
   "outputs": [
    {
     "data": {
      "text/plain": [
       "CFTimeIndex([2021-03-16 12:00:00, 2021-04-16 00:00:00, 2021-05-16 12:00:00,\n",
       "             2021-06-16 00:00:00, 2021-07-16 12:00:00, 2021-08-16 12:00:00,\n",
       "             2021-09-16 00:00:00, 2021-10-16 12:00:00, 2021-11-16 00:00:00],\n",
       "            dtype='object', length=9, calendar='gregorian', freq='None')"
      ]
     },
     "execution_count": 17,
     "metadata": {},
     "output_type": "execute_result"
    }
   ],
   "source": [
    "date_range_limit = basics.date_range_to_frequency_limits(start=date_start,\n",
    "                                                         end=date_end,\n",
    "                                                         frequency='mon',\n",
    "                                                         smonth=[3,6,9,12],\n",
    "                                                         emonth=[2,5,8,11], \n",
    "                                                         get_range=True)\n",
    "date_range_limit"
   ]
  },
  {
   "cell_type": "markdown",
   "id": "5c8331cd",
   "metadata": {},
   "source": [
    "To get only the left and right borders:"
   ]
  },
  {
   "cell_type": "code",
   "execution_count": 18,
   "id": "3eeef257",
   "metadata": {},
   "outputs": [
    {
     "data": {
      "text/plain": [
       "(cftime.DatetimeGregorian(2021, 3, 16, 12, 0, 0, 0, has_year_zero=False),\n",
       " cftime.DatetimeGregorian(2021, 11, 16, 0, 0, 0, 0, has_year_zero=False))"
      ]
     },
     "execution_count": 18,
     "metadata": {},
     "output_type": "execute_result"
    }
   ],
   "source": [
    "left, right = basics.date_range_to_frequency_limits(start=date_start,\n",
    "                                                    end=date_end,\n",
    "                                                    frequency='mon',\n",
    "                                                    smonth=[3,6,9,12],\n",
    "                                                    emonth=[2,5,8,11])\n",
    "left, right"
   ]
  }
 ],
 "metadata": {
  "kernelspec": {
   "display_name": "Python 3 (ipykernel)",
   "language": "python",
   "name": "python3"
  },
  "language_info": {
   "codemirror_mode": {
    "name": "ipython",
    "version": 3
   },
   "file_extension": ".py",
   "mimetype": "text/x-python",
   "name": "python",
   "nbconvert_exporter": "python",
   "pygments_lexer": "ipython3",
   "version": "3.8.12"
  }
 },
 "nbformat": 4,
 "nbformat_minor": 5
}
