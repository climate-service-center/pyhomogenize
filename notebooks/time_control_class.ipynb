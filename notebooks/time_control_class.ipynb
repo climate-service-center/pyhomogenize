{
 "cells": [
  {
   "cell_type": "markdown",
   "id": "b7a64bf6",
   "metadata": {},
   "source": [
    "### Use pyhomogenize to check netCDF file(s) time axis; `time_control`"
   ]
  },
  {
   "cell_type": "markdown",
   "id": "3c71fd43",
   "metadata": {},
   "source": [
    "Now, we want to use pyhomogenize's `time_control` class. We open a test netCDF file. This will be done automatically by calling the class."
   ]
  },
  {
   "cell_type": "code",
   "execution_count": null,
   "id": "cb2cdb86",
   "metadata": {},
   "outputs": [],
   "source": [
    "import pyhomogenize as pyh"
   ]
  },
  {
   "cell_type": "code",
   "execution_count": null,
   "id": "c2bef1d8",
   "metadata": {},
   "outputs": [],
   "source": [
    "time_control = pyh.time_control(pyh.test_netcdf[0])\n",
    "time_control.ds"
   ]
  },
  {
   "cell_type": "markdown",
   "id": "aba6bdce",
   "metadata": {},
   "source": [
    "Let's have a look on the datasets's time axis"
   ]
  },
  {
   "cell_type": "code",
   "execution_count": null,
   "id": "39ae7204",
   "metadata": {},
   "outputs": [],
   "source": [
    "time_control.time"
   ]
  },
  {
   "cell_type": "markdown",
   "id": "ba338bf2",
   "metadata": {},
   "source": [
    "We can check whether the time axis contains duplicated, missing or redundant time steps. A redundant time step is a time steps that does not math with the dataset's calendar and/or frequency."
   ]
  },
  {
   "cell_type": "code",
   "execution_count": null,
   "id": "5b67adca",
   "metadata": {},
   "outputs": [],
   "source": [
    "duplicates = time_control.get_duplicates()\n",
    "redundants = time_control.get_redundants()\n",
    "missings = time_control.get_missings()"
   ]
  },
  {
   "cell_type": "code",
   "execution_count": null,
   "id": "5d16c58f",
   "metadata": {},
   "outputs": [],
   "source": [
    "duplicates, redundants, missings"
   ]
  },
  {
   "cell_type": "markdown",
   "id": "ee061f9b",
   "metadata": {},
   "source": [
    "We see the time axis doesn't contain any incorrect time steps and no time steps are missing. Not really a auspicious example. We can combine the three above requests by using the function `check_timestamps`."
   ]
  },
  {
   "cell_type": "code",
   "execution_count": null,
   "id": "f33c8cd1",
   "metadata": {},
   "outputs": [],
   "source": [
    "timechecker1 = time_control.check_timestamps()\n",
    "timechecker1"
   ]
  },
  {
   "cell_type": "markdown",
   "id": "c37418bd",
   "metadata": {},
   "source": [
    "As we can see the functions returns a `time_control` object again but with three new attributes."
   ]
  },
  {
   "cell_type": "code",
   "execution_count": null,
   "id": "8e55db02",
   "metadata": {},
   "outputs": [],
   "source": [
    "timechecker1.duplicated_timesteps, timechecker1.missing_timesteps, timechecker1.redundant_timesteps"
   ]
  },
  {
   "cell_type": "markdown",
   "id": "cbeb1c97",
   "metadata": {},
   "source": [
    "We want to test the time axis only for duplicated time steps."
   ]
  },
  {
   "cell_type": "markdown",
   "id": "a7c81e9e",
   "metadata": {},
   "source": [
    "timechecker2 = time_control.check_timestamps(selection='duplicates')\n",
    "timechecker2.duplicated_timesteps"
   ]
  },
  {
   "cell_type": "markdown",
   "id": "75145476",
   "metadata": {},
   "source": [
    "By setting the parameter correct to the boolean value `True` we can delete the duplicated and redundant time steps if exisitng. Of course, in our great example this is not the case."
   ]
  },
  {
   "cell_type": "code",
   "execution_count": null,
   "id": "65060058",
   "metadata": {},
   "outputs": [],
   "source": [
    "timechecker3 = time_control.check_timestamps(correct=True)\n",
    "timechecker3.time"
   ]
  },
  {
   "cell_type": "markdown",
   "id": "e38ca39d",
   "metadata": {},
   "source": [
    "We can set the parameter `output` to select the dataset's output file name on disk. If so the parameter `correct` is automatically set to `True`."
   ]
  },
  {
   "cell_type": "code",
   "execution_count": null,
   "id": "6446cba5",
   "metadata": {},
   "outputs": [],
   "source": [
    "timechecker4 = time_control.check_timestamps(output=\"output.nc\")"
   ]
  },
  {
   "cell_type": "markdown",
   "id": "cda8da25",
   "metadata": {},
   "source": [
    "Now, we want to sleect a specific time range. We copy out `time_control` object to keep the original object. "
   ]
  },
  {
   "cell_type": "code",
   "execution_count": null,
   "id": "d9799399",
   "metadata": {},
   "outputs": [],
   "source": [
    "from copy import copy\n",
    "\n",
    "time_control1 = copy(time_control)\n",
    "selected1 = time_control1.select_time_range([\"2007-02-01\", \"2007-03-30\"])\n",
    "selected1"
   ]
  },
  {
   "cell_type": "markdown",
   "id": "6fc6d68d",
   "metadata": {},
   "source": [
    "Here again, we get a `time_control` object. But now with a different time axis."
   ]
  },
  {
   "cell_type": "code",
   "execution_count": null,
   "id": "9c5f1368",
   "metadata": {},
   "outputs": [],
   "source": [
    "selected1.time"
   ]
  },
  {
   "cell_type": "markdown",
   "id": "b2ef8531",
   "metadata": {},
   "source": [
    "Of course, we can write the result as netCDF file on disk. "
   ]
  },
  {
   "cell_type": "code",
   "execution_count": null,
   "id": "c1fa5c69",
   "metadata": {},
   "outputs": [],
   "source": [
    "time_control2 = copy(time_control)\n",
    "selected2 = time_control2.select_time_range(\n",
    "    [\"2007-02-01\", \"2007-03-30\"], output=\"output.nc\"\n",
    ")\n",
    "selected2.ds"
   ]
  },
  {
   "cell_type": "markdown",
   "id": "8b0916ab",
   "metadata": {},
   "source": [
    "If we want to crop or limit the time axis to a user-specified start and end month values as shown in the above example `basics.date_range_to_frequency_limits` we can do this with netCDF files as well. The time axis should start with the start of an arbitrary season and end with the end of an arbitrary season."
   ]
  },
  {
   "cell_type": "code",
   "execution_count": null,
   "id": "4523df6c",
   "metadata": {},
   "outputs": [],
   "source": [
    "time_control3 = copy(time_control)\n",
    "selected3 = time_control3.select_limited_time_range(\n",
    "    smonth=[3, 6, 9, 12], emonth=[2, 5, 8, 11], output=\"output.nc\"\n",
    ")\n",
    "selected3.time"
   ]
  },
  {
   "cell_type": "markdown",
   "id": "991a708e",
   "metadata": {},
   "source": [
    "Now, we want to check whether the time axis is within certain left and right bounds."
   ]
  },
  {
   "cell_type": "code",
   "execution_count": null,
   "id": "f2218254",
   "metadata": {},
   "outputs": [],
   "source": [
    "time_control.within_time_range([\"2007-02-01\", \"2007-03-30\"])"
   ]
  },
  {
   "cell_type": "code",
   "execution_count": null,
   "id": "e988735b",
   "metadata": {},
   "outputs": [],
   "source": [
    "time_control.within_time_range([\"2007-02-01\", \"2008-03-30\"])"
   ]
  },
  {
   "cell_type": "code",
   "execution_count": null,
   "id": "753a2348",
   "metadata": {},
   "outputs": [],
   "source": [
    "time_control.within_time_range([\"20070201\", \"20070330\"], fmt=\"%Y%m%d\")"
   ]
  }
 ],
 "metadata": {
  "kernelspec": {
   "display_name": "Python 3 (ipykernel)",
   "language": "python",
   "name": "python3"
  },
  "language_info": {
   "codemirror_mode": {
    "name": "ipython",
    "version": 3
   },
   "file_extension": ".py",
   "mimetype": "text/x-python",
   "name": "python",
   "nbconvert_exporter": "python",
   "pygments_lexer": "ipython3",
   "version": "3.8.12"
  }
 },
 "nbformat": 4,
 "nbformat_minor": 5
}
