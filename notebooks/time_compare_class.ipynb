{
 "cells": [
  {
   "cell_type": "markdown",
   "id": "94c0cf6e",
   "metadata": {},
   "source": [
    "### Compare time axes of multiple netCDF files"
   ]
  },
  {
   "cell_type": "markdown",
   "id": "0292fd72",
   "metadata": {},
   "source": [
    "Let's get the maximum intersection of multiple test netCDF files' time axes."
   ]
  },
  {
   "cell_type": "code",
   "execution_count": null,
   "id": "deb5bbc7",
   "metadata": {},
   "outputs": [],
   "source": [
    "import pyhomogenize as pyh"
   ]
  },
  {
   "cell_type": "code",
   "execution_count": null,
   "id": "ef00702f",
   "metadata": {},
   "outputs": [],
   "source": [
    "file1 = pyh.test_netcdf[0]\n",
    "file2 = pyh.test_netcdf[1]\n",
    "file1.split(\"/\")[-1], file2.split(\"/\")[-1]"
   ]
  },
  {
   "cell_type": "code",
   "execution_count": null,
   "id": "3eee0fc2",
   "metadata": {},
   "outputs": [],
   "source": [
    "time_compare = pyh.time_compare(file1, file2)"
   ]
  },
  {
   "cell_type": "code",
   "execution_count": null,
   "id": "92c322aa",
   "metadata": {},
   "outputs": [],
   "source": [
    "time_compare.max_intersection()"
   ]
  },
  {
   "cell_type": "markdown",
   "id": "30c9d24a",
   "metadata": {},
   "source": [
    "We also can use time_control or xarray Datasets insteaf of files on disk."
   ]
  },
  {
   "cell_type": "code",
   "execution_count": null,
   "id": "20b43208",
   "metadata": {},
   "outputs": [],
   "source": [
    "import xarray as xr"
   ]
  },
  {
   "cell_type": "code",
   "execution_count": null,
   "id": "c412a65f",
   "metadata": {},
   "outputs": [],
   "source": [
    "time_control = pyh.time_control(pyh.test_netcdf[0])\n",
    "xr_dataset = xr.open_dataset(pyh.test_netcdf[1])\n",
    "file3 = pyh.test_netcdf[2]"
   ]
  },
  {
   "cell_type": "code",
   "execution_count": null,
   "id": "d8cf9e5a",
   "metadata": {},
   "outputs": [],
   "source": [
    "time_control.time"
   ]
  },
  {
   "cell_type": "code",
   "execution_count": null,
   "id": "8acaf17c",
   "metadata": {},
   "outputs": [],
   "source": [
    "xr_dataset.time"
   ]
  },
  {
   "cell_type": "code",
   "execution_count": null,
   "id": "dcf2ac47",
   "metadata": {},
   "outputs": [],
   "source": [
    "file3.split(\"/\")[-1]"
   ]
  },
  {
   "cell_type": "code",
   "execution_count": null,
   "id": "17d7ac50",
   "metadata": {},
   "outputs": [],
   "source": [
    "time_compare_2 = pyh.time_compare(time_control, xr_dataset, file3)\n",
    "time_compare_2.max_intersection()"
   ]
  },
  {
   "cell_type": "markdown",
   "id": "b99aabb4",
   "metadata": {},
   "source": [
    "Now, we want to select the maximum time intersection from each input."
   ]
  },
  {
   "cell_type": "code",
   "execution_count": null,
   "id": "16d5dc49",
   "metadata": {},
   "outputs": [],
   "source": [
    "from copy import copy\n",
    "\n",
    "time_control_2 = copy(time_control)\n",
    "xr_dataset_2 = xr_dataset.copy()\n",
    "selected = time_compare_2.select_max_intersection()\n",
    "selected"
   ]
  },
  {
   "cell_type": "markdown",
   "id": "c8485545",
   "metadata": {},
   "source": [
    "As we can see we got a list of three `time_control` objects. Let's have a look at their time axes."
   ]
  },
  {
   "cell_type": "code",
   "execution_count": null,
   "id": "b6c9e05f",
   "metadata": {},
   "outputs": [],
   "source": [
    "selected[0].time"
   ]
  },
  {
   "cell_type": "code",
   "execution_count": null,
   "id": "f4bb5daa",
   "metadata": {},
   "outputs": [],
   "source": [
    "selected[1].time"
   ]
  },
  {
   "cell_type": "code",
   "execution_count": null,
   "id": "bf269665",
   "metadata": {},
   "outputs": [],
   "source": [
    "selected[2].time"
   ]
  }
 ],
 "metadata": {
  "kernelspec": {
   "display_name": "Python 3 (ipykernel)",
   "language": "python",
   "name": "python3"
  },
  "language_info": {
   "codemirror_mode": {
    "name": "ipython",
    "version": 3
   },
   "file_extension": ".py",
   "mimetype": "text/x-python",
   "name": "python",
   "nbconvert_exporter": "python",
   "pygments_lexer": "ipython3",
   "version": "3.8.12"
  }
 },
 "nbformat": 4,
 "nbformat_minor": 5
}
